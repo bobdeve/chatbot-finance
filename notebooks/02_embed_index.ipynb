{
 "cells": [
  {
   "cell_type": "code",
   "execution_count": 2,
   "id": "849ae640",
   "metadata": {},
   "outputs": [
    {
     "name": "stdout",
     "output_type": "stream",
     "text": [
      "  Date received                      Product  \\\n",
      "0    2025-06-13                  Credit card   \n",
      "1    2025-06-13  Checking or savings account   \n",
      "2    2025-06-12                  Credit card   \n",
      "3    2025-06-12                  Credit card   \n",
      "4    2025-06-09                  Credit card   \n",
      "\n",
      "                                  Sub-product  \\\n",
      "0                           Store credit card   \n",
      "1                            Checking account   \n",
      "2  General-purpose credit card or charge card   \n",
      "3  General-purpose credit card or charge card   \n",
      "4  General-purpose credit card or charge card   \n",
      "\n",
      "                                             Issue  \\\n",
      "0                            Getting a credit card   \n",
      "1                              Managing an account   \n",
      "2               Other features, terms, or problems   \n",
      "3             Incorrect information on your report   \n",
      "4  Problem with a purchase shown on your statement   \n",
      "\n",
      "                                           Sub-issue  \\\n",
      "0        Card opened without my consent or knowledge   \n",
      "1                           Deposits and withdrawals   \n",
      "2                                      Other problem   \n",
      "3                      Account information incorrect   \n",
      "4  Credit card company isn't resolving a dispute ...   \n",
      "\n",
      "                        Consumer complaint narrative  \\\n",
      "0  A XXXX XXXX card was opened under my name by a...   \n",
      "1  I made the mistake of using my wellsfargo debi...   \n",
      "2  Dear CFPB, I have a secured credit card with c...   \n",
      "3  I have a Citi rewards cards. The credit balanc...   \n",
      "4  b'I am writing to dispute the following charge...   \n",
      "\n",
      "                             Company public response                Company  \\\n",
      "0  Company has responded to the consumer and the ...         CITIBANK, N.A.   \n",
      "1  Company has responded to the consumer and the ...  WELLS FARGO & COMPANY   \n",
      "2  Company has responded to the consumer and the ...         CITIBANK, N.A.   \n",
      "3  Company has responded to the consumer and the ...         CITIBANK, N.A.   \n",
      "4  Company has responded to the consumer and the ...         CITIBANK, N.A.   \n",
      "\n",
      "  State ZIP code            Tags Consumer consent provided? Submitted via  \\\n",
      "0    TX    78230   Servicemember           Consent provided           Web   \n",
      "1    ID    83815             NaN           Consent provided           Web   \n",
      "2    NY    11220             NaN           Consent provided           Web   \n",
      "3    IL    60067             NaN           Consent provided           Web   \n",
      "4    TX    78413  Older American           Consent provided           Web   \n",
      "\n",
      "  Date sent to company     Company response to consumer Timely response?  \\\n",
      "0           2025-06-13  Closed with non-monetary relief              Yes   \n",
      "1           2025-06-13          Closed with explanation              Yes   \n",
      "2           2025-06-13      Closed with monetary relief              Yes   \n",
      "3           2025-06-12          Closed with explanation              Yes   \n",
      "4           2025-06-09      Closed with monetary relief              Yes   \n",
      "\n",
      "  Consumer disputed?  Complaint ID  narrative_word_count  \\\n",
      "0                NaN      14069121                    91   \n",
      "1                NaN      14061897                   109   \n",
      "2                NaN      14047085                   156   \n",
      "3                NaN      14040217                   233   \n",
      "4                NaN      13968411                   454   \n",
      "\n",
      "                                   cleaned_narrative  \n",
      "0  a xxxx xxxx card was opened under my name by a...  \n",
      "1  i made the mistake of using my wellsfargo debi...  \n",
      "2  i have a secured credit card with citibank whi...  \n",
      "3  i have a citi rewards cards the credit balance...  \n",
      "4  bi am writing to dispute the following charges...  \n"
     ]
    }
   ],
   "source": [
    "import pandas as pd\n",
    "\n",
    "# Load cleaned complaints CSV with at least columns: 'Complaint ID', 'Consumer complaint narrative', 'Product'\n",
    "df = pd.read_csv(\"../data/filtered_complaints.csv\")\n",
    "\n",
    "# Optional: inspect first few rows\n",
    "print(df.head())\n"
   ]
  },
  {
   "cell_type": "markdown",
   "id": "1a66b403",
   "metadata": {},
   "source": [
    "Step 2: Define a chunking function"
   ]
  },
  {
   "cell_type": "code",
   "execution_count": 3,
   "id": "32d69a57",
   "metadata": {},
   "outputs": [],
   "source": [
    "def chunk_text(text, doc_id, product, chunk_size=100, chunk_overlap=20):\n",
    "    words = text.split()\n",
    "    chunks = []\n",
    "    start = 0\n",
    "    idx = 0\n",
    "    while start < len(words):\n",
    "        end = min(start + chunk_size, len(words))\n",
    "        chunk_words = words[start:end]\n",
    "        chunk_text = \" \".join(chunk_words)\n",
    "        chunks.append({\n",
    "            \"doc_id\": doc_id,\n",
    "            \"chunk_index\": idx,\n",
    "            \"chunk_text\": chunk_text,\n",
    "            \"product\": product\n",
    "        })\n",
    "        start += chunk_size - chunk_overlap\n",
    "        idx += 1\n",
    "    return chunks\n"
   ]
  },
  {
   "cell_type": "markdown",
   "id": "9954d9d2",
   "metadata": {},
   "source": [
    "Step 3: Iterate over dataframe rows and create text_chunks\n"
   ]
  },
  {
   "cell_type": "code",
   "execution_count": 4,
   "id": "ecb2cb79",
   "metadata": {},
   "outputs": [
    {
     "name": "stdout",
     "output_type": "stream",
     "text": [
      "Total chunks created: 956535\n"
     ]
    }
   ],
   "source": [
    "text_chunks = []\n",
    "\n",
    "for _, row in df.iterrows():\n",
    "    doc_id = row['Complaint ID']  # or whatever your ID column is named\n",
    "    product = row['Product']\n",
    "    narrative = row['Consumer complaint narrative']\n",
    "    \n",
    "    # Some narratives might be NaN or empty, skip those\n",
    "    if pd.isna(narrative) or len(str(narrative).strip()) == 0:\n",
    "        continue\n",
    "    \n",
    "    chunks = chunk_text(str(narrative), doc_id, product)\n",
    "    text_chunks.extend(chunks)\n",
    "\n",
    "print(f\"Total chunks created: {len(text_chunks)}\")\n"
   ]
  },
  {
   "cell_type": "code",
   "execution_count": 1,
   "id": "c7f3d375",
   "metadata": {},
   "outputs": [],
   "source": [
    "# import os\n",
    "# from dotenv import load_dotenv\n",
    "\n",
    "# load_dotenv()  # loads variables from .env into environment\n",
    "\n",
    "# API_TOKEN = os.getenv(\"HF_API_TOKEN\")\n",
    "# print(API_TOKEN)"
   ]
  },
  {
   "cell_type": "code",
   "execution_count": 6,
   "id": "6cd27f1d",
   "metadata": {},
   "outputs": [
    {
     "name": "stderr",
     "output_type": "stream",
     "text": [
      "c:\\Users\\Bob\\Desktop\\10Acadamy\\week6\\chatbot-finance\\chat-bot\\Lib\\site-packages\\tqdm\\auto.py:21: TqdmWarning: IProgress not found. Please update jupyter and ipywidgets. See https://ipywidgets.readthedocs.io/en/stable/user_install.html\n",
      "  from .autonotebook import tqdm as notebook_tqdm\n",
      "Batches: 100%|██████████| 29892/29892 [7:32:08<00:00,  1.10it/s]       \n"
     ]
    }
   ],
   "source": [
    "import sys\n",
    "import os\n",
    "\n",
    "# ✅ Add the project root to the Python path\n",
    "sys.path.append(os.path.abspath(\"..\"))\n",
    "\n",
    "# ✅ Import your embedding and vectorstore tools\n",
    "from app.embeddings.embeddings import embed_text_chunks\n",
    "from app.embeddings.vectorstore import build_faiss_index, save_faiss_index\n",
    "\n",
    "# ✅ Assuming `text_chunks` is already defined from your chunking process\n",
    "# Example format:\n",
    "# text_chunks = [\n",
    "#     {\"doc_id\": \"123\", \"chunk_index\": 0, \"chunk_text\": \"some cleaned text\", \"product\": \"Credit card\"},\n",
    "#     ...\n",
    "# ]\n",
    "\n",
    "# 🔁 Generate embeddings\n",
    "embedded_chunks = embed_text_chunks(text_chunks)\n",
    "\n",
    "# 🧠 Build FAISS index and metadata\n",
    "index, metadata = build_faiss_index(embedded_chunks)\n",
    "\n",
    "# 💾 Save index and metadata to base path (FAISS will handle .bin and .pkl automatically)\n",
    "save_faiss_index(index, metadata, \"../data/embeddings/faiss_index\")\n"
   ]
  },
  {
   "cell_type": "code",
   "execution_count": null,
   "id": "f1f12ca9",
   "metadata": {},
   "outputs": [],
   "source": [
    "# import sys \n",
    "# import os\n",
    "\n",
    "# # Add the project root to the Python path\n",
    "# sys.path.append(os.path.abspath(\"..\"))\n",
    "\n",
    "# # Now your imports will work:\n",
    "# from app.embeddings.embeddings import embed_text_chunks\n",
    "# from app.embeddings.vectorstore import build_faiss_index, save_faiss_index\n",
    "\n",
    "# # Suppose you already have text_chunks (from chunking step)\n",
    "# # Example:\n",
    "# # text_chunks = [{\"doc_id\": \"123\", \"chunk_index\": 0, \"chunk_text\": \"some cleaned text\", \"product\": \"Credit card\"}]\n",
    "\n",
    "# embedded_chunks = embed_text_chunks(text_chunks)\n",
    "\n",
    "# index, metadata = build_faiss_index(embedded_chunks)\n",
    "\n",
    "# save_faiss_index(index, metadata, \"../data/embeddings/faiss_index.bin\", \"../data/embeddings/faiss_metadata.pkl\")"
   ]
  }
 ],
 "metadata": {
  "kernelspec": {
   "display_name": "chat-bot",
   "language": "python",
   "name": "python3"
  },
  "language_info": {
   "codemirror_mode": {
    "name": "ipython",
    "version": 3
   },
   "file_extension": ".py",
   "mimetype": "text/x-python",
   "name": "python",
   "nbconvert_exporter": "python",
   "pygments_lexer": "ipython3",
   "version": "3.13.3"
  }
 },
 "nbformat": 4,
 "nbformat_minor": 5
}
