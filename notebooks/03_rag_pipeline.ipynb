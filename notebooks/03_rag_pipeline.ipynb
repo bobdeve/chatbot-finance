{
 "cells": [
  {
   "cell_type": "code",
   "execution_count": 1,
   "id": "6cf93610",
   "metadata": {},
   "outputs": [],
   "source": [
    "import sys\n",
    "import os"
   ]
  },
  {
   "cell_type": "code",
   "execution_count": 2,
   "id": "7e0e70fb",
   "metadata": {},
   "outputs": [
    {
     "name": "stderr",
     "output_type": "stream",
     "text": [
      "c:\\Users\\Bob\\Desktop\\10Acadamy\\week6\\chatbot-finance\\chat-bot\\Lib\\site-packages\\tqdm\\auto.py:21: TqdmWarning: IProgress not found. Please update jupyter and ipywidgets. See https://ipywidgets.readthedocs.io/en/stable/user_install.html\n",
      "  from .autonotebook import tqdm as notebook_tqdm\n"
     ]
    },
    {
     "ename": "HTTPError",
     "evalue": "404 Client Error: Not Found for url: https://api-inference.huggingface.co/models/google/flan-t5-base",
     "output_type": "error",
     "traceback": [
      "\u001b[31m---------------------------------------------------------------------------\u001b[39m",
      "\u001b[31mHTTPError\u001b[39m                                 Traceback (most recent call last)",
      "\u001b[36mCell\u001b[39m\u001b[36m \u001b[39m\u001b[32mIn[2]\u001b[39m\u001b[32m, line 27\u001b[39m\n\u001b[32m     25\u001b[39m top_chunks = retrieve_top_k(question, index, metadata, k=\u001b[32m5\u001b[39m)\n\u001b[32m     26\u001b[39m prompt = format_prompt(top_chunks, question)\n\u001b[32m---> \u001b[39m\u001b[32m27\u001b[39m answer = \u001b[43mgenerate_answer\u001b[49m\u001b[43m(\u001b[49m\u001b[43mprompt\u001b[49m\u001b[43m)\u001b[49m\n\u001b[32m     29\u001b[39m \u001b[38;5;28mprint\u001b[39m(\u001b[33mf\u001b[39m\u001b[33m\"\u001b[39m\u001b[33mQuestion: \u001b[39m\u001b[38;5;132;01m{\u001b[39;00mquestion\u001b[38;5;132;01m}\u001b[39;00m\u001b[33m\"\u001b[39m)\n\u001b[32m     30\u001b[39m \u001b[38;5;28mprint\u001b[39m(\u001b[33mf\u001b[39m\u001b[33m\"\u001b[39m\u001b[33mAnswer: \u001b[39m\u001b[38;5;132;01m{\u001b[39;00manswer\u001b[38;5;132;01m}\u001b[39;00m\u001b[38;5;130;01m\\n\u001b[39;00m\u001b[33m\"\u001b[39m)\n",
      "\u001b[36mFile \u001b[39m\u001b[32mc:\\Users\\Bob\\Desktop\\10Acadamy\\week6\\chatbot-finance\\app\\rag\\generator.py:26\u001b[39m, in \u001b[36mgenerate_answer\u001b[39m\u001b[34m(prompt, max_tokens)\u001b[39m\n\u001b[32m     16\u001b[39m payload = {\n\u001b[32m     17\u001b[39m     \u001b[33m\"\u001b[39m\u001b[33minputs\u001b[39m\u001b[33m\"\u001b[39m: prompt,\n\u001b[32m     18\u001b[39m     \u001b[33m\"\u001b[39m\u001b[33mparameters\u001b[39m\u001b[33m\"\u001b[39m: {\n\u001b[32m   (...)\u001b[39m\u001b[32m     22\u001b[39m     }\n\u001b[32m     23\u001b[39m }\n\u001b[32m     25\u001b[39m response = requests.post(HF_GENERATION_URL, headers=headers, json=payload)\n\u001b[32m---> \u001b[39m\u001b[32m26\u001b[39m \u001b[43mresponse\u001b[49m\u001b[43m.\u001b[49m\u001b[43mraise_for_status\u001b[49m\u001b[43m(\u001b[49m\u001b[43m)\u001b[49m\n\u001b[32m     28\u001b[39m output = response.json()\n\u001b[32m     29\u001b[39m \u001b[38;5;28;01mif\u001b[39;00m \u001b[38;5;28misinstance\u001b[39m(output, \u001b[38;5;28mlist\u001b[39m) \u001b[38;5;129;01mand\u001b[39;00m \u001b[33m\"\u001b[39m\u001b[33mgenerated_text\u001b[39m\u001b[33m\"\u001b[39m \u001b[38;5;129;01min\u001b[39;00m output[\u001b[32m0\u001b[39m]:\n",
      "\u001b[36mFile \u001b[39m\u001b[32mc:\\Users\\Bob\\Desktop\\10Acadamy\\week6\\chatbot-finance\\chat-bot\\Lib\\site-packages\\requests\\models.py:1026\u001b[39m, in \u001b[36mResponse.raise_for_status\u001b[39m\u001b[34m(self)\u001b[39m\n\u001b[32m   1021\u001b[39m     http_error_msg = (\n\u001b[32m   1022\u001b[39m         \u001b[33mf\u001b[39m\u001b[33m\"\u001b[39m\u001b[38;5;132;01m{\u001b[39;00m\u001b[38;5;28mself\u001b[39m.status_code\u001b[38;5;132;01m}\u001b[39;00m\u001b[33m Server Error: \u001b[39m\u001b[38;5;132;01m{\u001b[39;00mreason\u001b[38;5;132;01m}\u001b[39;00m\u001b[33m for url: \u001b[39m\u001b[38;5;132;01m{\u001b[39;00m\u001b[38;5;28mself\u001b[39m.url\u001b[38;5;132;01m}\u001b[39;00m\u001b[33m\"\u001b[39m\n\u001b[32m   1023\u001b[39m     )\n\u001b[32m   1025\u001b[39m \u001b[38;5;28;01mif\u001b[39;00m http_error_msg:\n\u001b[32m-> \u001b[39m\u001b[32m1026\u001b[39m     \u001b[38;5;28;01mraise\u001b[39;00m HTTPError(http_error_msg, response=\u001b[38;5;28mself\u001b[39m)\n",
      "\u001b[31mHTTPError\u001b[39m: 404 Client Error: Not Found for url: https://api-inference.huggingface.co/models/google/flan-t5-base"
     ]
    }
   ],
   "source": [
    "\n",
    "\n",
    "sys.path.append(os.path.abspath(\"..\"))  # Adjust if needed\n",
    "\n",
    "from app.rag.retriever import load_faiss_index, retrieve_top_k\n",
    "from app.rag.prompt_template import format_prompt\n",
    "from app.rag.generator import generate_answer\n",
    "\n",
    "# ✅ Load the index and metadata (corrected path)\n",
    "index, metadata = load_faiss_index(\n",
    "    \"../data/embeddings/faiss_index.bin\",\n",
    "    \"../data/embeddings/faiss_index_metadata.pkl\"\n",
    ")\n",
    "\n",
    "\n",
    "# Sample questions for evaluation\n",
    "sample_questions = [\n",
    "    \"Why are customers unhappy with money transfers?\",\n",
    "    \"What problems do people have with credit card billing?\",\n",
    "    \"How do customers feel about mortgage servicing?\",\n",
    "    \"Are there complaints related to debt collection agencies?\",\n",
    "    \"What issues are common in bank account closures?\"\n",
    "]\n",
    "\n",
    "# Loop over questions and generate answers\n",
    "for question in sample_questions:\n",
    "    top_chunks = retrieve_top_k(question, index, metadata, k=5)\n",
    "    prompt = format_prompt(top_chunks, question)\n",
    "    answer = generate_answer(prompt)\n",
    "    \n",
    "    print(f\"Question: {question}\")\n",
    "    print(f\"Answer: {answer}\\n\")\n",
    "    print(f\"Top Retrieved Sources (1-2):\")\n",
    "    for chunk in top_chunks[:2]:\n",
    "        print(f\"- {chunk['chunk_text'][:200]}...\")\n",
    "    print(\"=\"*80)\n"
   ]
  }
 ],
 "metadata": {
  "kernelspec": {
   "display_name": "chat-bot",
   "language": "python",
   "name": "python3"
  },
  "language_info": {
   "codemirror_mode": {
    "name": "ipython",
    "version": 3
   },
   "file_extension": ".py",
   "mimetype": "text/x-python",
   "name": "python",
   "nbconvert_exporter": "python",
   "pygments_lexer": "ipython3",
   "version": "3.13.3"
  }
 },
 "nbformat": 4,
 "nbformat_minor": 5
}
